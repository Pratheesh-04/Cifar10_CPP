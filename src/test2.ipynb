{
 "cells": [
  {
   "cell_type": "code",
   "execution_count": 1,
   "metadata": {},
   "outputs": [],
   "source": [
    "import tensorflow as tf\n",
    "import numpy as np"
   ]
  },
  {
   "cell_type": "code",
   "execution_count": 2,
   "metadata": {},
   "outputs": [],
   "source": [
    "input_data=np.ones((1, 32, 32, 3), dtype=np.float32)"
   ]
  },
  {
   "cell_type": "code",
   "execution_count": 3,
   "metadata": {},
   "outputs": [],
   "source": [
    "model = tf.keras.models.load_model(r\"F:\\MCW\\Assignment\\trained models\\final_model.h5\")"
   ]
  },
  {
   "cell_type": "code",
   "execution_count": 4,
   "metadata": {},
   "outputs": [
    {
     "name": "stdout",
     "output_type": "stream",
     "text": [
      "1/1 [==============================] - 20s 20s/step\n"
     ]
    }
   ],
   "source": [
    "y_pred = model.predict(input_data)"
   ]
  },
  {
   "cell_type": "code",
   "execution_count": null,
   "metadata": {},
   "outputs": [],
   "source": [
    "y_pred_classes = np.argmax(y_pred, axis=1)\n",
    "print(y_pred_classes)"
   ]
  },
  {
   "cell_type": "code",
   "execution_count": 10,
   "metadata": {},
   "outputs": [
    {
     "name": "stdout",
     "output_type": "stream",
     "text": [
      "Predicted class: Airplane (Index: 0)\n",
      "=====================================================\n",
      "\n"
     ]
    }
   ],
   "source": [
    "\n",
    "# Corresponding class labels\n",
    "labels = [\"Airplane\", \"Automobile\", \"Bird\", \"Cat\", \"Deer\",\n",
    "          \"Dog\", \"Frog\", \"Horse\", \"Ship\", \"Truck\"]\n",
    "\n",
    "# Find the index of the maximum value\n",
    "predicted_index = np.argmax(y_pred[0])\n",
    "\n",
    "# Predict the class\n",
    "predicted_class = labels[predicted_index]\n",
    "\n",
    "# Print the prediction to the console\n",
    "print(f\"Predicted class: {predicted_class} (Index: {predicted_index})\")\n",
    "\n",
    "# Write the prediction to a text file\n",
    "try:\n",
    "    with open(\"report\\model_prediction_output.txt\", \"a\") as outfile:\n",
    "        outfile.write(f\"Predicted class at python: {predicted_class} (Index: {predicted_index})\\n\")\n",
    "        print(\"=====================================================\\n\")\n",
    "except IOError:\n",
    "    print(\"Error opening file for writing!\")\n"
   ]
  }
 ],
 "metadata": {
  "kernelspec": {
   "display_name": "tfenv",
   "language": "python",
   "name": "python3"
  },
  "language_info": {
   "codemirror_mode": {
    "name": "ipython",
    "version": 3
   },
   "file_extension": ".py",
   "mimetype": "text/x-python",
   "name": "python",
   "nbconvert_exporter": "python",
   "pygments_lexer": "ipython3",
   "version": "3.9.18"
  }
 },
 "nbformat": 4,
 "nbformat_minor": 2
}
